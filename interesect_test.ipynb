{
 "cells": [
  {
   "cell_type": "code",
   "execution_count": null,
   "metadata": {},
   "outputs": [],
   "source": [
    "import geopandas\n",
    "import matplotlib.pyplot as plt"
   ]
  },
  {
   "cell_type": "code",
   "execution_count": null,
   "metadata": {},
   "outputs": [],
   "source": [
    "def intersect_counter(centroids, boundaries):\n",
    "\n",
    "        \"\"\" A function that will count the number of centroids that fall within\n",
    "            the boundaries of another layer.\n",
    "\n",
    "            Input:\n",
    "            ------\n",
    "            centroids (float): Centroid coordinates of each source layer to\n",
    "            disaggregate.\n",
    "\n",
    "            boundaries (GeoDataFrame ?): Boundaries of the target layer.\n",
    "\n",
    "            Output:\n",
    "            -------\n",
    "            boundaries (GeoDataFrame): Boundaries GeoDataFrame containing number\n",
    "            of intersecting source centroids.\n",
    "        \"\"\"\n",
    "\n",
    "        boundaries[\"count\"] = 0\n",
    "\n",
    "        for i in range(len(boundaries)):\n",
    "            inter_count=0\n",
    "            CD = boundaries.loc[[i]]\n",
    "\n",
    "            inter_count = sum(centroids.intersects(CD))\n",
    "#             print(inter_count)\n",
    "            boundaries.loc[i,\"count\"] = inter_count\n",
    "\n",
    "        return boundaries"
   ]
  },
  {
   "cell_type": "code",
   "execution_count": null,
   "metadata": {},
   "outputs": [],
   "source": [
    "parcels = geopandas.read_file('testdata/MN_PLUTO_SUBSET.shp')\n",
    "source = geopandas.read_file('testdata/nad_subset.shp')\n",
    "print(parcels.crs)\n",
    "print(source.crs)\n",
    "\n",
    "source['centroids'] = source.centroid\n",
    "\n",
    "source2 = source.copy()\n",
    "source2['geometry'] = source.centroid\n",
    "\n",
    "source2"
   ]
  },
  {
   "cell_type": "code",
   "execution_count": null,
   "metadata": {},
   "outputs": [],
   "source": [
    "fig, ax = plt.subplots()\n",
    "parcels.shape\n",
    "parcels.plot(color='#B3E5FC', ax=ax)\n",
    "source2.plot(markersize=.5, ax=ax)"
   ]
  },
  {
   "cell_type": "code",
   "execution_count": 115,
   "metadata": {},
   "outputs": [],
   "source": [
    "inters = [geopandas.sjoin(parcels.loc[[k]], source2).shape[0] for k in parcels.index]\n",
    "\n",
    "# for k in parcels.index:\n",
    "#     x = geopandas.sjoin(parcels.loc[[k]], source2)\n",
    "#     print(x.shape[0])"
   ]
  },
  {
   "cell_type": "code",
   "execution_count": 120,
   "metadata": {},
   "outputs": [
    {
     "data": {
      "text/plain": [
       "15"
      ]
     },
     "execution_count": 120,
     "metadata": {},
     "output_type": "execute_result"
    }
   ],
   "source": [
    "inters[1207]"
   ]
  }
 ],
 "metadata": {
  "kernelspec": {
   "display_name": "Python 3",
   "language": "python",
   "name": "python3"
  },
  "language_info": {
   "codemirror_mode": {
    "name": "ipython",
    "version": 3
   },
   "file_extension": ".py",
   "mimetype": "text/x-python",
   "name": "python",
   "nbconvert_exporter": "python",
   "pygments_lexer": "ipython3",
   "version": "3.6.7"
  }
 },
 "nbformat": 4,
 "nbformat_minor": 2
}
